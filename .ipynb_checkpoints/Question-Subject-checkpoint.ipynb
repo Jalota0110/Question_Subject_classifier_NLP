{
 "cells": [
  {
   "cell_type": "code",
   "execution_count": 14,
   "id": "b42fa382",
   "metadata": {},
   "outputs": [],
   "source": [
    "import numpy as np\n",
    "import pandas as pd\n",
    "import matplotlib.pyplot as plt\n",
    "import seaborn as sns\n",
    "%matplotlib inline"
   ]
  },
  {
   "cell_type": "code",
   "execution_count": 45,
   "id": "946ec414",
   "metadata": {},
   "outputs": [
    {
     "name": "stdout",
     "output_type": "stream",
     "text": [
      "NLTK Downloader\n",
      "---------------------------------------------------------------------------\n",
      "    d) Download   l) List    u) Update   c) Config   h) Help   q) Quit\n",
      "---------------------------------------------------------------------------\n",
      "Downloader> d\n",
      "\n",
      "Download which package (l=list; x=cancel)?\n",
      "  Identifier> stopwords\n"
     ]
    },
    {
     "name": "stderr",
     "output_type": "stream",
     "text": [
      "    Downloading package stopwords to\n",
      "        C:\\Users\\pranj\\AppData\\Roaming\\nltk_data...\n",
      "      Package stopwords is already up-to-date!\n"
     ]
    },
    {
     "name": "stdout",
     "output_type": "stream",
     "text": [
      "\n",
      "---------------------------------------------------------------------------\n",
      "    d) Download   l) List    u) Update   c) Config   h) Help   q) Quit\n",
      "---------------------------------------------------------------------------\n",
      "Downloader> q\n"
     ]
    }
   ],
   "source": [
    "import nltk\n",
    "nltk.download_shell()"
   ]
  },
  {
   "cell_type": "code",
   "execution_count": 15,
   "id": "5d12684b",
   "metadata": {},
   "outputs": [],
   "source": [
    "s_q=pd.read_csv('subjects-questions.csv')"
   ]
  },
  {
   "cell_type": "code",
   "execution_count": 16,
   "id": "ed6eae02",
   "metadata": {},
   "outputs": [
    {
     "data": {
      "text/html": [
       "<div>\n",
       "<style scoped>\n",
       "    .dataframe tbody tr th:only-of-type {\n",
       "        vertical-align: middle;\n",
       "    }\n",
       "\n",
       "    .dataframe tbody tr th {\n",
       "        vertical-align: top;\n",
       "    }\n",
       "\n",
       "    .dataframe thead th {\n",
       "        text-align: right;\n",
       "    }\n",
       "</style>\n",
       "<table border=\"1\" class=\"dataframe\">\n",
       "  <thead>\n",
       "    <tr style=\"text-align: right;\">\n",
       "      <th></th>\n",
       "      <th>eng</th>\n",
       "      <th>Subject</th>\n",
       "    </tr>\n",
       "  </thead>\n",
       "  <tbody>\n",
       "    <tr>\n",
       "      <th>0</th>\n",
       "      <td>An anti-forest measure is\\nA. Afforestation\\nB...</td>\n",
       "      <td>Biology</td>\n",
       "    </tr>\n",
       "    <tr>\n",
       "      <th>1</th>\n",
       "      <td>Among the following organic acids, the acid pr...</td>\n",
       "      <td>Chemistry</td>\n",
       "    </tr>\n",
       "    <tr>\n",
       "      <th>2</th>\n",
       "      <td>If the area of two similar triangles are equal...</td>\n",
       "      <td>Maths</td>\n",
       "    </tr>\n",
       "    <tr>\n",
       "      <th>3</th>\n",
       "      <td>In recent year, there has been a growing\\nconc...</td>\n",
       "      <td>Biology</td>\n",
       "    </tr>\n",
       "    <tr>\n",
       "      <th>4</th>\n",
       "      <td>Which of the following statement\\nregarding tr...</td>\n",
       "      <td>Physics</td>\n",
       "    </tr>\n",
       "  </tbody>\n",
       "</table>\n",
       "</div>"
      ],
      "text/plain": [
       "                                                 eng    Subject\n",
       "0  An anti-forest measure is\\nA. Afforestation\\nB...    Biology\n",
       "1  Among the following organic acids, the acid pr...  Chemistry\n",
       "2  If the area of two similar triangles are equal...      Maths\n",
       "3  In recent year, there has been a growing\\nconc...    Biology\n",
       "4  Which of the following statement\\nregarding tr...    Physics"
      ]
     },
     "execution_count": 16,
     "metadata": {},
     "output_type": "execute_result"
    }
   ],
   "source": [
    "s_q.head()"
   ]
  },
  {
   "cell_type": "code",
   "execution_count": 17,
   "id": "102917ff",
   "metadata": {},
   "outputs": [
    {
     "name": "stdout",
     "output_type": "stream",
     "text": [
      "122519\n"
     ]
    }
   ],
   "source": [
    "questions=[line.rstrip() for line in s_q['eng']]\n",
    "print(len(questions))"
   ]
  },
  {
   "cell_type": "code",
   "execution_count": 18,
   "id": "ef5a8459",
   "metadata": {},
   "outputs": [
    {
     "name": "stdout",
     "output_type": "stream",
     "text": [
      "0 An anti-forest measure is\n",
      "A. Afforestation\n",
      "B. Selective grazing\n",
      "C . Clearing forest\n",
      "D. Selective felling\n",
      "\n",
      "\n",
      "1 Among the following organic acids, the acid present in rancid butter is:\n",
      "A . pyruvic acid\n",
      "B. lactic acid\n",
      "c. butyric acid\n",
      "D. acetic acid\n",
      "\n",
      "\n",
      "2 If the area of two similar triangles are equal, then they are\n",
      "A . equilateral\n",
      "B. isosceles\n",
      "c. congruent\n",
      "D. not congruent\n",
      "\n",
      "\n",
      "3 In recent year, there has been a growing\n",
      "concern about the gradually increasing average global temperatures. If this trend continues, would you expert the distributional range of some species to be affected?\n",
      "\n",
      "\n",
      "4 Which of the following statement\n",
      "regarding transformer is incorrect?\n",
      "A. A transformer makes use of Faradays Law.\n",
      "B. The ferromagnetic properties of an iron core is used by it to efficiently raise or lower AC voltage\n",
      "C. It cannot increase power so that if the voltage is raised, the current is proportionally lowered and vice versa.\n",
      "D. The current induced in primary circuit is of same nature as in secondary circuit with differences in amplitude only.\n",
      "\n",
      "\n",
      "5 Fern plants reproduce by\n",
      "A. Seeds\n",
      "B. Spores\n",
      "c. Laying eggs\n",
      "D. Giving birth to young fern plants\n",
      "\n",
      "\n",
      "6 Electric current flows through:\n",
      "A. a conductor\n",
      "B. an insulator\n",
      "c. free space\n",
      "D. none of these\n",
      "\n",
      "\n",
      "7 The sides of a right angled triangle are in A.P. The ratio of sides is\n",
      "A .1: 2: 3\n",
      "B. 2:3:4\n",
      "\\( c \\cdot 3: 4: 5 \\)\n",
      "\\( D \\cdot 5: 8: 3 \\)\n",
      "\n",
      "\n",
      "8 If the mass of a body is \\( M \\) on the\n",
      "surface of the earth, the mass of the\n",
      "same body on the surface of the moon is\n",
      "A. \\( M / 6 \\)\n",
      "в. \\( M \\)\n",
      "\\( c \\cdot 6 M \\)\n",
      "D. zero\n",
      "\n",
      "\n",
      "9 A particle of mass \\( m \\) is made to move\n",
      "with uniform speed \\( v \\) along the perimeter of a regular hexagon. The magnitude of impulse applied at each\n",
      "corner is:\n",
      "A . \\( m v \\)\n",
      "B. \\( m v \\sqrt{3} \\)\n",
      "c. \\( \\frac{m v}{2} \\)\n",
      "D. \\( \\frac{m v}{\\sqrt{3}} \\)\n",
      "\n",
      "\n"
     ]
    }
   ],
   "source": [
    "for question_no,questions in enumerate(questions[:10]):\n",
    "    print(question_no,questions)\n",
    "    print('\\n')"
   ]
  },
  {
   "cell_type": "code",
   "execution_count": 19,
   "id": "d18d57dc",
   "metadata": {},
   "outputs": [
    {
     "data": {
      "text/html": [
       "<div>\n",
       "<style scoped>\n",
       "    .dataframe tbody tr th:only-of-type {\n",
       "        vertical-align: middle;\n",
       "    }\n",
       "\n",
       "    .dataframe tbody tr th {\n",
       "        vertical-align: top;\n",
       "    }\n",
       "\n",
       "    .dataframe thead th {\n",
       "        text-align: right;\n",
       "    }\n",
       "</style>\n",
       "<table border=\"1\" class=\"dataframe\">\n",
       "  <thead>\n",
       "    <tr style=\"text-align: right;\">\n",
       "      <th></th>\n",
       "      <th>eng</th>\n",
       "      <th>Subject</th>\n",
       "    </tr>\n",
       "  </thead>\n",
       "  <tbody>\n",
       "    <tr>\n",
       "      <th>0</th>\n",
       "      <td>An anti-forest measure is\\nA. Afforestation\\nB...</td>\n",
       "      <td>Biology</td>\n",
       "    </tr>\n",
       "    <tr>\n",
       "      <th>1</th>\n",
       "      <td>Among the following organic acids, the acid pr...</td>\n",
       "      <td>Chemistry</td>\n",
       "    </tr>\n",
       "    <tr>\n",
       "      <th>2</th>\n",
       "      <td>If the area of two similar triangles are equal...</td>\n",
       "      <td>Maths</td>\n",
       "    </tr>\n",
       "    <tr>\n",
       "      <th>3</th>\n",
       "      <td>In recent year, there has been a growing\\nconc...</td>\n",
       "      <td>Biology</td>\n",
       "    </tr>\n",
       "    <tr>\n",
       "      <th>4</th>\n",
       "      <td>Which of the following statement\\nregarding tr...</td>\n",
       "      <td>Physics</td>\n",
       "    </tr>\n",
       "  </tbody>\n",
       "</table>\n",
       "</div>"
      ],
      "text/plain": [
       "                                                 eng    Subject\n",
       "0  An anti-forest measure is\\nA. Afforestation\\nB...    Biology\n",
       "1  Among the following organic acids, the acid pr...  Chemistry\n",
       "2  If the area of two similar triangles are equal...      Maths\n",
       "3  In recent year, there has been a growing\\nconc...    Biology\n",
       "4  Which of the following statement\\nregarding tr...    Physics"
      ]
     },
     "execution_count": 19,
     "metadata": {},
     "output_type": "execute_result"
    }
   ],
   "source": [
    "questions=pd.read_csv('subjects-questions.csv')\n",
    "questions.head()"
   ]
  },
  {
   "cell_type": "code",
   "execution_count": 20,
   "id": "5065b10e",
   "metadata": {},
   "outputs": [
    {
     "data": {
      "text/html": [
       "<div>\n",
       "<style scoped>\n",
       "    .dataframe tbody tr th:only-of-type {\n",
       "        vertical-align: middle;\n",
       "    }\n",
       "\n",
       "    .dataframe tbody tr th {\n",
       "        vertical-align: top;\n",
       "    }\n",
       "\n",
       "    .dataframe thead th {\n",
       "        text-align: right;\n",
       "    }\n",
       "</style>\n",
       "<table border=\"1\" class=\"dataframe\">\n",
       "  <thead>\n",
       "    <tr style=\"text-align: right;\">\n",
       "      <th></th>\n",
       "      <th>eng</th>\n",
       "      <th>Subject</th>\n",
       "    </tr>\n",
       "  </thead>\n",
       "  <tbody>\n",
       "    <tr>\n",
       "      <th>count</th>\n",
       "      <td>122519</td>\n",
       "      <td>122519</td>\n",
       "    </tr>\n",
       "    <tr>\n",
       "      <th>unique</th>\n",
       "      <td>121679</td>\n",
       "      <td>4</td>\n",
       "    </tr>\n",
       "    <tr>\n",
       "      <th>top</th>\n",
       "      <td>Match the column.</td>\n",
       "      <td>Physics</td>\n",
       "    </tr>\n",
       "    <tr>\n",
       "      <th>freq</th>\n",
       "      <td>12</td>\n",
       "      <td>38438</td>\n",
       "    </tr>\n",
       "  </tbody>\n",
       "</table>\n",
       "</div>"
      ],
      "text/plain": [
       "                      eng  Subject\n",
       "count              122519   122519\n",
       "unique             121679        4\n",
       "top     Match the column.  Physics\n",
       "freq                   12    38438"
      ]
     },
     "execution_count": 20,
     "metadata": {},
     "output_type": "execute_result"
    }
   ],
   "source": [
    "questions.describe()"
   ]
  },
  {
   "cell_type": "code",
   "execution_count": 23,
   "id": "99c07092",
   "metadata": {},
   "outputs": [
    {
     "data": {
      "text/html": [
       "<div>\n",
       "<style scoped>\n",
       "    .dataframe tbody tr th:only-of-type {\n",
       "        vertical-align: middle;\n",
       "    }\n",
       "\n",
       "    .dataframe tbody tr th {\n",
       "        vertical-align: top;\n",
       "    }\n",
       "\n",
       "    .dataframe thead tr th {\n",
       "        text-align: left;\n",
       "    }\n",
       "\n",
       "    .dataframe thead tr:last-of-type th {\n",
       "        text-align: right;\n",
       "    }\n",
       "</style>\n",
       "<table border=\"1\" class=\"dataframe\">\n",
       "  <thead>\n",
       "    <tr>\n",
       "      <th></th>\n",
       "      <th colspan=\"4\" halign=\"left\">eng</th>\n",
       "    </tr>\n",
       "    <tr>\n",
       "      <th></th>\n",
       "      <th>count</th>\n",
       "      <th>unique</th>\n",
       "      <th>top</th>\n",
       "      <th>freq</th>\n",
       "    </tr>\n",
       "    <tr>\n",
       "      <th>Subject</th>\n",
       "      <th></th>\n",
       "      <th></th>\n",
       "      <th></th>\n",
       "      <th></th>\n",
       "    </tr>\n",
       "  </thead>\n",
       "  <tbody>\n",
       "    <tr>\n",
       "      <th>Biology</th>\n",
       "      <td>13124</td>\n",
       "      <td>13094</td>\n",
       "      <td>Nucleic acids were discovered by\\nA. Watson an...</td>\n",
       "      <td>2</td>\n",
       "    </tr>\n",
       "    <tr>\n",
       "      <th>Chemistry</th>\n",
       "      <td>37767</td>\n",
       "      <td>37612</td>\n",
       "      <td>Match the column.</td>\n",
       "      <td>12</td>\n",
       "    </tr>\n",
       "    <tr>\n",
       "      <th>Maths</th>\n",
       "      <td>33190</td>\n",
       "      <td>32874</td>\n",
       "      <td>If \\( A \\) and \\( B \\) are mutually exclusive ...</td>\n",
       "      <td>4</td>\n",
       "    </tr>\n",
       "    <tr>\n",
       "      <th>Physics</th>\n",
       "      <td>38438</td>\n",
       "      <td>38128</td>\n",
       "      <td>\\( \\frac{k}{k} \\)</td>\n",
       "      <td>7</td>\n",
       "    </tr>\n",
       "  </tbody>\n",
       "</table>\n",
       "</div>"
      ],
      "text/plain": [
       "             eng                                                            \\\n",
       "           count unique                                                top   \n",
       "Subject                                                                      \n",
       "Biology    13124  13094  Nucleic acids were discovered by\\nA. Watson an...   \n",
       "Chemistry  37767  37612                                  Match the column.   \n",
       "Maths      33190  32874  If \\( A \\) and \\( B \\) are mutually exclusive ...   \n",
       "Physics    38438  38128                                  \\( \\frac{k}{k} \\)   \n",
       "\n",
       "                \n",
       "          freq  \n",
       "Subject         \n",
       "Biology      2  \n",
       "Chemistry   12  \n",
       "Maths        4  \n",
       "Physics      7  "
      ]
     },
     "execution_count": 23,
     "metadata": {},
     "output_type": "execute_result"
    }
   ],
   "source": [
    "questions.groupby('Subject').describe()"
   ]
  },
  {
   "cell_type": "code",
   "execution_count": 26,
   "id": "5d73fc9b",
   "metadata": {},
   "outputs": [
    {
     "data": {
      "text/html": [
       "<div>\n",
       "<style scoped>\n",
       "    .dataframe tbody tr th:only-of-type {\n",
       "        vertical-align: middle;\n",
       "    }\n",
       "\n",
       "    .dataframe tbody tr th {\n",
       "        vertical-align: top;\n",
       "    }\n",
       "\n",
       "    .dataframe thead th {\n",
       "        text-align: right;\n",
       "    }\n",
       "</style>\n",
       "<table border=\"1\" class=\"dataframe\">\n",
       "  <thead>\n",
       "    <tr style=\"text-align: right;\">\n",
       "      <th></th>\n",
       "      <th>eng</th>\n",
       "      <th>Subject</th>\n",
       "      <th>length</th>\n",
       "    </tr>\n",
       "  </thead>\n",
       "  <tbody>\n",
       "    <tr>\n",
       "      <th>0</th>\n",
       "      <td>An anti-forest measure is\\nA. Afforestation\\nB...</td>\n",
       "      <td>Biology</td>\n",
       "      <td>104</td>\n",
       "    </tr>\n",
       "    <tr>\n",
       "      <th>1</th>\n",
       "      <td>Among the following organic acids, the acid pr...</td>\n",
       "      <td>Chemistry</td>\n",
       "      <td>135</td>\n",
       "    </tr>\n",
       "    <tr>\n",
       "      <th>2</th>\n",
       "      <td>If the area of two similar triangles are equal...</td>\n",
       "      <td>Maths</td>\n",
       "      <td>120</td>\n",
       "    </tr>\n",
       "    <tr>\n",
       "      <th>3</th>\n",
       "      <td>In recent year, there has been a growing\\nconc...</td>\n",
       "      <td>Biology</td>\n",
       "      <td>207</td>\n",
       "    </tr>\n",
       "    <tr>\n",
       "      <th>4</th>\n",
       "      <td>Which of the following statement\\nregarding tr...</td>\n",
       "      <td>Physics</td>\n",
       "      <td>451</td>\n",
       "    </tr>\n",
       "  </tbody>\n",
       "</table>\n",
       "</div>"
      ],
      "text/plain": [
       "                                                 eng    Subject  length\n",
       "0  An anti-forest measure is\\nA. Afforestation\\nB...    Biology     104\n",
       "1  Among the following organic acids, the acid pr...  Chemistry     135\n",
       "2  If the area of two similar triangles are equal...      Maths     120\n",
       "3  In recent year, there has been a growing\\nconc...    Biology     207\n",
       "4  Which of the following statement\\nregarding tr...    Physics     451"
      ]
     },
     "execution_count": 26,
     "metadata": {},
     "output_type": "execute_result"
    }
   ],
   "source": [
    "questions['length']= questions['eng'].apply(len)\n",
    "questions.head()"
   ]
  },
  {
   "cell_type": "code",
   "execution_count": 31,
   "id": "9e8520e9",
   "metadata": {},
   "outputs": [],
   "source": [
    "import matplotlib.pyplot as plt\n",
    "import seaborn as sns\n",
    "\n",
    "%matplotlib inline"
   ]
  },
  {
   "cell_type": "code",
   "execution_count": 35,
   "id": "81748ec8",
   "metadata": {},
   "outputs": [
    {
     "data": {
      "text/plain": [
       "<AxesSubplot:ylabel='Frequency'>"
      ]
     },
     "execution_count": 35,
     "metadata": {},
     "output_type": "execute_result"
    },
    {
     "data": {
      "image/png": "[encoded data removed]",
      "text/plain": [
       "<Figure size 432x288 with 1 Axes>"
      ]
     },
     "metadata": {
      "needs_background": "light"
     },
     "output_type": "display_data"
    }
   ],
   "source": [
    "questions['length'].plot(bins=1000, kind='hist') "
   ]
  },
  {
   "cell_type": "code",
   "execution_count": 36,
   "id": "1b3588bc",
   "metadata": {},
   "outputs": [
    {
     "data": {
      "text/plain": [
       "count    122519.000000\n",
       "mean        231.848603\n",
       "std         151.301139\n",
       "min           1.000000\n",
       "25%         122.000000\n",
       "50%         194.000000\n",
       "75%         306.000000\n",
       "max        4317.000000\n",
       "Name: length, dtype: float64"
      ]
     },
     "execution_count": 36,
     "metadata": {},
     "output_type": "execute_result"
    }
   ],
   "source": [
    "questions.length.describe()"
   ]
  },
  {
   "cell_type": "code",
   "execution_count": 38,
   "id": "54691f63",
   "metadata": {},
   "outputs": [
    {
     "data": {
      "text/plain": [
       "'\\\\( \\\\boldsymbol{L} \\\\) and \\\\( \\\\boldsymbol{M} \\\\) are two points with position vectors \\\\( 2 \\\\bar{a}-\\\\bar{b} \\\\) and \\\\( a+2 \\\\bar{b} \\\\) respectively.\\nThe position vector of the point \\\\( N \\\\) which\\ndivides the line segment \\\\( L M \\\\) in the ratio 2: 1 externally is\\n\\\\( \\\\mathbf{A} \\\\cdot 3 \\\\bar{b} \\\\)\\nв. \\\\( 4 \\\\bar{b} \\\\)\\n\\\\( c .5 \\\\bar{b} \\\\)\\nD. \\\\( 3 \\\\bar{a}+4 \\\\bar{b} \\\\bar{\\\\hline} \\\\bar{b}+4+4 \\\\bar{a} \\\\bar{a} \\\\bar{b} \\\\bar{b} \\\\bar{b} \\\\bar{b} \\\\bar{b} \\\\bar{b} \\\\bar{b} \\\\bar{b} \\\\bar{b} \\\\bar{b} \\\\bar{b} \\\\bar{b} \\\\bar{b} \\\\bar{b} \\\\bar{b} \\\\bar{b} \\\\bar{b} \\\\bar{b} \\\\bar{b} \\\\bar{b} \\\\bar{b} \\\\bar{b} \\\\bar{b} \\\\bar{b} \\\\bar{b} \\\\bar{b} \\\\bar{b} \\\\bar{b} \\\\bar{b} \\\\bar{b} \\\\bar{b} \\\\bar{b} \\\\bar{b} \\\\bar{b} \\\\bar{b} \\\\bar{b} \\\\bar{b} \\\\bar{b} \\\\bar{b} \\\\bar{b} \\\\bar{b} \\\\bar{b} \\\\bar{b} \\\\bar{b} \\\\bar{b} \\\\bar{b} \\\\bar{b} \\\\bar{b} \\\\bar{b} \\\\bar{b} \\\\bar{b} \\\\bar{b} \\\\bar{b} \\\\bar{b} \\\\bar{b} \\\\bar{b} \\\\bar{b} \\\\bar{b} \\\\bar{b} \\\\bar{b} \\\\bar{b} \\\\bar{b} \\\\bar{b} \\\\bar{b} \\\\bar{b} \\\\bar{b} \\\\bar{b} \\\\bar{b} \\\\bar{b} \\\\bar{b} \\\\bar{b} \\\\bar{b} \\\\bar{b} \\\\bar{b} \\\\bar{b} \\\\bar{b} \\\\bar{b} \\\\bar{b} \\\\bar{b} \\\\bar{b} \\\\bar{b} \\\\bar{b} \\\\bar{b} \\\\bar{b} \\\\bar{b} \\\\bar{b} \\\\bar{b} \\\\bar{b} \\\\bar{b} \\\\bar{b} \\\\bar{b} \\\\bar{b} \\\\bar{b} \\\\bar{b} \\\\bar{b} \\\\bar{b} \\\\bar{b} \\\\bar{b} \\\\bar{b} \\\\bar{b} \\\\bar{b} \\\\bar{b} \\\\bar{b} \\\\bar{b} \\\\bar{b} \\\\bar{b} \\\\bar{b} \\\\bar{b} \\\\bar{b} \\\\bar{b} \\\\bar{b} \\\\bar{b} \\\\bar{b} \\\\bar{b} \\\\bar{b} \\\\bar{b} \\\\bar{b} \\\\bar{b} \\\\bar{b} \\\\bar{b} \\\\bar{b} \\\\bar{b} \\\\bar{b} \\\\bar{b} \\\\bar{b} \\\\bar{b} \\\\bar{b} \\\\bar{b} \\\\bar{b} \\\\bar{b} \\\\bar{b} \\\\bar{b} \\\\bar{b} \\\\bar{b} \\\\bar{b} \\\\bar{b} \\\\bar{b} \\\\bar{b} \\\\bar{b} \\\\bar{b} \\\\bar{b} \\\\bar{b} \\\\bar{b} \\\\bar{b} \\\\bar{b} \\\\bar{b} \\\\bar{b} \\\\bar{b} \\\\bar{b} \\\\bar{b} \\\\bar{b} \\\\bar{b} \\\\bar{b} \\\\bar{b} \\\\bar{b} \\\\bar{b} \\\\bar{b} \\\\bar{b} \\\\bar{b} \\\\bar{b} \\\\bar{b} \\\\bar{b} \\\\bar{b} \\\\bar{b} \\\\bar{b} \\\\bar{b} \\\\bar{b} \\\\bar{b} \\\\bar{b} \\\\bar{b} \\\\bar{b} \\\\bar{b} \\\\bar{b} \\\\bar{b} \\\\bar{b} \\\\bar{b} \\\\bar{b} \\\\bar{b} \\\\bar{b} \\\\bar{b} \\\\bar{b} \\\\bar{b} \\\\bar{b} \\\\bar{b} \\\\bar{b} \\\\bar{b} \\\\bar{b} \\\\bar{b} \\\\bar{b} \\\\bar{b} \\\\bar{b} \\\\bar{b} \\\\bar{b} \\\\bar{b} \\\\bar{b} \\\\bar{b} \\\\bar{b} \\\\bar{b} \\\\bar{b} \\\\bar{b} \\\\bar{b} \\\\bar{b} \\\\bar{b} \\\\bar{b} \\\\bar{b} \\\\bar{b} \\\\bar{b} \\\\bar{b} \\\\bar{b} \\\\bar{b} \\\\bar{b} \\\\bar{b} \\\\bar{b} \\\\bar{b} \\\\bar{b} \\\\bar{b} \\\\bar{b} \\\\bar{b} \\\\bar{b} \\\\bar{b} \\\\bar{b} \\\\bar{b} \\\\bar{b} \\\\bar{b} \\\\bar{b} \\\\bar{b} \\\\bar{b} \\\\bar{b} \\\\bar{b} \\\\bar{b} \\\\bar{b} \\\\bar{b} \\\\bar{b} \\\\bar{b} \\\\bar{b} \\\\bar{b} \\\\bar{b} \\\\bar{b} \\\\bar{b} \\\\bar{b} \\\\bar{b} \\\\bar{b} \\\\bar{b} \\\\bar{b} \\\\bar{b} \\\\bar{b} \\\\bar{b} \\\\bar{b} \\\\bar{b} \\\\bar{b} \\\\bar{b} \\\\bar{b} \\\\bar{b} \\\\bar{b} \\\\bar{b} \\\\bar{b} \\\\bar{b} \\\\bar{b} \\\\bar{b} \\\\bar{b} \\\\bar{b} \\\\bar{b} \\\\bar{b} \\\\bar{b} \\\\bar{b} \\\\bar{b} \\\\bar{b} \\\\bar{b} \\\\bar{b} \\\\bar{b} \\\\bar{b} \\\\bar{b} \\\\bar{b} \\\\bar{b} \\\\bar{b} \\\\bar{b} \\\\bar{b} \\\\bar{b} \\\\bar{b} \\\\bar{b} \\\\bar{b} \\\\bar{b} \\\\bar{b} \\\\bar{b} \\\\bar{b} \\\\bar{b} \\\\bar{b} \\\\bar{b} \\\\bar{b} \\\\bar{b} \\\\bar{b} \\\\bar{b} \\\\bar{b} \\\\bar{b} \\\\bar{b} \\\\bar{b} \\\\bar{b} \\\\bar{b} \\\\bar{b} \\\\bar{b} \\\\bar{b} \\\\bar{b} \\\\bar{b} \\\\bar{b} \\\\bar{b} \\\\bar{b} \\\\bar{b} \\\\bar{b} \\\\bar{b} \\\\bar{b} \\\\bar{b} \\\\bar{b} \\\\bar{b} \\\\bar{b} \\\\bar{b} \\\\bar{b} \\\\bar{b} \\\\bar{b} \\\\bar{b} \\\\bar{b} \\\\bar{b} \\\\bar{b} \\\\bar{b} \\\\bar{b} \\\\bar{b} \\\\bar{b} \\\\bar{b} \\\\bar{b} \\\\bar{b} \\\\bar{b} \\\\bar{b} \\\\bar{b} \\\\bar{b} \\\\bar{b} \\\\bar{b} \\\\bar{b} \\\\bar{b} \\\\bar{b} \\\\bar{b} \\\\bar{b} \\\\bar{b} \\\\bar{b} \\\\bar{b} \\\\bar{b} \\\\bar{b} \\\\bar{b} \\\\bar{b} \\\\bar{b} \\\\bar{b} \\\\bar{b} \\\\bar{b} \\\\bar{b} \\\\bar{b} \\\\bar{b} \\\\bar{b} \\\\bar{b} \\\\bar{b} \\\\bar{b} \\\\bar{b} \\\\bar{b} \\\\bar{b} \\\\bar{b} \\\\bar{b} \\\\bar{b} \\\\bar{b} \\\\bar{b} \\\\bar{b} \\\\bar{b} \\\\bar{b} \\\\bar{b} \\\\bar{b} \\\\bar{b} \\\\bar{b} \\\\bar{b} \\\\bar{b} \\\\bar{b} \\\\bar{b} \\\\bar{b} \\\\bar{b} \\\\bar{b} \\\\bar{b} \\\\bar{b} \\\\bar{b} \\\\bar{b} \\\\bar{b} \\\\bar{b} \\\\bar{b} \\\\bar{b} \\\\bar{b} \\\\bar{b} \\\\bar{b} \\\\bar{b} \\\\bar{b} \\\\bar{b} \\\\bar{b} \\\\bar{b} \\\\bar{b} \\\\bar{b} \\\\bar{b} \\\\bar{b} \\\\bar{b} \\\\bar{b} \\\\bar{b} \\\\bar{b} \\\\bar{b} \\\\bar{b} \\\\bar{b} \\\\bar{b} \\\\bar{b} \\\\bar{b} \\\\bar{b} \\\\bar{b} \\\\bar{b} \\\\bar{b} \\\\bar{b} \\\\bar{b} \\\\bar{b} \\\\bar{b} \\\\bar{b} \\\\bar{b} \\\\bar{b} \\\\bar{b} \\\\bar{b} \\\\bar{b} \\\\bar{b} \\\\bar{b} \\\\bar{b} \\\\bar{b} \\\\bar{b} \\\\bar{b} \\\\bar{b} \\\\bar{b} \\\\bar{b} \\\\bar{b} \\\\bar{b} \\\\bar{b} \\\\bar{b} \\\\bar{b} \\\\bar{b} \\\\bar{b} \\\\bar{b} \\\\bar{b} \\\\bar{b} \\\\bar{b} \\\\bar{b} \\\\bar{b} \\\\bar{b} \\\\bar{b} \\\\bar{b} \\\\bar{b} \\\\bar{b} \\\\bar{b} \\\\bar{b} \\\\bar{b} \\\\bar{b} \\\\bar{b} \\\\bar{b} \\\\bar{b} \\\\bar{b} \\\\bar{b} \\\\bar{b} \\\\bar{b} \\\\bar{b} \\\\bar{b} \\\\bar{b} \\\\bar{b} \\\\bar{b} \\\\bar{b} \\\\bar{b} \\\\bar{b} \\\\bar{b} \\\\bar{b} \\\\bar{b} \\\\bar{b} \\\\bar{b} \\\\bar{b} \\\\bar{b} \\\\bar{b} \\\\bar{b} \\\\bar{b} \\\\bar{b} \\\\bar{b} \\\\bar{b} \\\\bar{b} \\\\bar{b} \\\\bar{b} \\\\bar{b} \\\\bar{b} \\\\bar{b} \\\\bar{b} \\\\)'"
      ]
     },
     "execution_count": 38,
     "metadata": {},
     "output_type": "execute_result"
    }
   ],
   "source": [
    "questions[questions['length'] == 4317]['eng'].iloc[0]"
   ]
  },
  {
   "cell_type": "code",
   "execution_count": null,
   "id": "6db9f1bd",
   "metadata": {},
   "outputs": [],
   "source": [
    "questions.hist('Subject',columns='length', by='eng', bins=50,figsize=(12,4))"
   ]
  },
  {
   "cell_type": "code",
   "execution_count": 41,
   "id": "b39ac0d3",
   "metadata": {},
   "outputs": [],
   "source": [
    "import string\n",
    "\n",
    "mess = 'Sample message! Notice: it has punctuation.'\n",
    "\n",
    "# Check characters to see if they are in punctuation\n",
    "nopunc = [char for char in mess if char not in string.punctuation]\n",
    "\n",
    "\n",
    "# Join the characters again to form the string.\n",
    "nopunc = ''.join(nopunc)"
   ]
  },
  {
   "cell_type": "code",
   "execution_count": null,
   "id": "81ac6a98",
   "metadata": {},
   "outputs": [],
   "source": []
  },
  {
   "cell_type": "code",
   "execution_count": 46,
   "id": "116d1b3c",
   "metadata": {},
   "outputs": [
    {
     "data": {
      "text/plain": [
       "['i', 'me', 'my', 'myself', 'we', 'our', 'ours', 'ourselves', 'you', \"you're\"]"
      ]
     },
     "execution_count": 46,
     "metadata": {},
     "output_type": "execute_result"
    }
   ],
   "source": [
    "from nltk.corpus import stopwords\n",
    "stopwords.words('english')[0:10] # Show some stop words"
   ]
  },
  {
   "cell_type": "code",
   "execution_count": 47,
   "id": "519efa22",
   "metadata": {},
   "outputs": [
    {
     "data": {
      "text/plain": [
       "['Sample', 'message', 'Notice', 'it', 'has', 'punctuation']"
      ]
     },
     "execution_count": 47,
     "metadata": {},
     "output_type": "execute_result"
    }
   ],
   "source": [
    "nopunc.split()"
   ]
  },
  {
   "cell_type": "code",
   "execution_count": 48,
   "id": "976bc824",
   "metadata": {},
   "outputs": [],
   "source": [
    "# Now just remove any stopwords\n",
    "clean_mess = [word for word in nopunc.split() if word.lower() not in stopwords.words('english')]"
   ]
  },
  {
   "cell_type": "code",
   "execution_count": 49,
   "id": "41e15a4e",
   "metadata": {},
   "outputs": [
    {
     "data": {
      "text/plain": [
       "['Sample', 'message', 'Notice', 'punctuation']"
      ]
     },
     "execution_count": 49,
     "metadata": {},
     "output_type": "execute_result"
    }
   ],
   "source": [
    "clean_mess"
   ]
  },
  {
   "cell_type": "code",
   "execution_count": 81,
   "id": "388244db",
   "metadata": {},
   "outputs": [],
   "source": [
    "def text_process(mess):\n",
    "    \"\"\"\n",
    "    Takes in a string of text, then performs the following:\n",
    "    1. Remove all punctuation\n",
    "    2. Remove all stopwords\n",
    "    3. Returns a list of the cleaned text\n",
    "    \"\"\"\n",
    "    # Check characters to see if they are in punctuation\n",
    "    nopunc = [char for char in mess if char not in string.punctuation]\n",
    "\n",
    "    # Join the characters again to form the string.\n",
    "    nopunc = ''.join(nopunc)\n",
    "    \n",
    "    # Now just remove any stopwords,spaces and option markers('A','B','C' and 'D')\n",
    "    return [word for word in nopunc.split() if word.lower() not in (stopwords.words('english') and ['a','b','c','d','\\n','\\t'])]"
   ]
  },
  {
   "cell_type": "code",
   "execution_count": 82,
   "id": "43822c56",
   "metadata": {},
   "outputs": [
    {
     "data": {
      "text/html": [
       "<div>\n",
       "<style scoped>\n",
       "    .dataframe tbody tr th:only-of-type {\n",
       "        vertical-align: middle;\n",
       "    }\n",
       "\n",
       "    .dataframe tbody tr th {\n",
       "        vertical-align: top;\n",
       "    }\n",
       "\n",
       "    .dataframe thead th {\n",
       "        text-align: right;\n",
       "    }\n",
       "</style>\n",
       "<table border=\"1\" class=\"dataframe\">\n",
       "  <thead>\n",
       "    <tr style=\"text-align: right;\">\n",
       "      <th></th>\n",
       "      <th>eng</th>\n",
       "      <th>Subject</th>\n",
       "      <th>length</th>\n",
       "    </tr>\n",
       "  </thead>\n",
       "  <tbody>\n",
       "    <tr>\n",
       "      <th>0</th>\n",
       "      <td>An anti-forest measure is\\nA. Afforestation\\nB...</td>\n",
       "      <td>Biology</td>\n",
       "      <td>104</td>\n",
       "    </tr>\n",
       "    <tr>\n",
       "      <th>1</th>\n",
       "      <td>Among the following organic acids, the acid pr...</td>\n",
       "      <td>Chemistry</td>\n",
       "      <td>135</td>\n",
       "    </tr>\n",
       "    <tr>\n",
       "      <th>2</th>\n",
       "      <td>If the area of two similar triangles are equal...</td>\n",
       "      <td>Maths</td>\n",
       "      <td>120</td>\n",
       "    </tr>\n",
       "    <tr>\n",
       "      <th>3</th>\n",
       "      <td>In recent year, there has been a growing\\nconc...</td>\n",
       "      <td>Biology</td>\n",
       "      <td>207</td>\n",
       "    </tr>\n",
       "    <tr>\n",
       "      <th>4</th>\n",
       "      <td>Which of the following statement\\nregarding tr...</td>\n",
       "      <td>Physics</td>\n",
       "      <td>451</td>\n",
       "    </tr>\n",
       "  </tbody>\n",
       "</table>\n",
       "</div>"
      ],
      "text/plain": [
       "                                                 eng    Subject  length\n",
       "0  An anti-forest measure is\\nA. Afforestation\\nB...    Biology     104\n",
       "1  Among the following organic acids, the acid pr...  Chemistry     135\n",
       "2  If the area of two similar triangles are equal...      Maths     120\n",
       "3  In recent year, there has been a growing\\nconc...    Biology     207\n",
       "4  Which of the following statement\\nregarding tr...    Physics     451"
      ]
     },
     "execution_count": 82,
     "metadata": {},
     "output_type": "execute_result"
    }
   ],
   "source": [
    "questions.head()"
   ]
  },
  {
   "cell_type": "code",
   "execution_count": 83,
   "id": "0511e071",
   "metadata": {},
   "outputs": [
    {
     "data": {
      "text/plain": [
       "0    [An, antiforest, measure, is, Afforestation, S...\n",
       "1    [Among, the, following, organic, acids, the, a...\n",
       "2    [If, the, area, of, two, similar, triangles, a...\n",
       "3    [In, recent, year, there, has, been, growing, ...\n",
       "4    [Which, of, the, following, statement, regardi...\n",
       "Name: eng, dtype: object"
      ]
     },
     "execution_count": 83,
     "metadata": {},
     "output_type": "execute_result"
    }
   ],
   "source": [
    "# Check to make sure its working\n",
    "questions['eng'].head(5).apply(text_process)"
   ]
  },
  {
   "cell_type": "code",
   "execution_count": 84,
   "id": "35dc57a6",
   "metadata": {},
   "outputs": [
    {
     "data": {
      "text/plain": [
       "['An',\n",
       " 'antiforest',\n",
       " 'measure',\n",
       " 'is',\n",
       " 'Afforestation',\n",
       " 'Selective',\n",
       " 'grazing',\n",
       " 'Clearing',\n",
       " 'forest',\n",
       " 'Selective',\n",
       " 'felling']"
      ]
     },
     "execution_count": 84,
     "metadata": {},
     "output_type": "execute_result"
    }
   ],
   "source": [
    "# Check to make sure its working\n",
    "q=text_process(questions['eng'][0])\n",
    "q"
   ]
  },
  {
   "cell_type": "code",
   "execution_count": 85,
   "id": "80e848cc",
   "metadata": {},
   "outputs": [],
   "source": [
    "from sklearn.feature_extraction.text import CountVectorizer"
   ]
  },
  {
   "cell_type": "code",
   "execution_count": 86,
   "id": "4eb63a7c",
   "metadata": {},
   "outputs": [
    {
     "name": "stdout",
     "output_type": "stream",
     "text": [
      "135824\n"
     ]
    }
   ],
   "source": [
    "# Might take awhile...\n",
    "bow_transformer = CountVectorizer(analyzer=text_process).fit(questions['eng'])\n",
    "\n",
    "# Print total number of vocab words\n",
    "print(len(bow_transformer.vocabulary_))"
   ]
  },
  {
   "cell_type": "code",
   "execution_count": 87,
   "id": "aef9c88a",
   "metadata": {},
   "outputs": [
    {
     "name": "stdout",
     "output_type": "stream",
     "text": [
      "In recent year, there has been a growing\n",
      "concern about the gradually increasing average global temperatures. If this trend continues, would you expert the distributional range of some species to be affected?\n"
     ]
    }
   ],
   "source": [
    "q4 = questions['eng'][3]\n",
    "print(q4)"
   ]
  },
  {
   "cell_type": "code",
   "execution_count": 88,
   "id": "3fbe1c20",
   "metadata": {},
   "outputs": [
    {
     "name": "stdout",
     "output_type": "stream",
     "text": [
      "  (0, 29987)\t1\n",
      "  (0, 30152)\t1\n",
      "  (0, 48506)\t1\n",
      "  (0, 49069)\t1\n",
      "  (0, 51258)\t1\n",
      "  (0, 52290)\t1\n",
      "  (0, 52354)\t1\n",
      "  (0, 68416)\t1\n",
      "  (0, 68739)\t1\n",
      "  (0, 71713)\t1\n",
      "  (0, 74725)\t1\n",
      "  (0, 86858)\t1\n",
      "  (0, 87094)\t1\n",
      "  (0, 87304)\t1\n",
      "  (0, 87829)\t1\n",
      "  (0, 90442)\t1\n",
      "  (0, 107567)\t1\n",
      "  (0, 115435)\t1\n",
      "  (0, 115708)\t1\n",
      "  (0, 119267)\t1\n",
      "  (0, 119414)\t1\n",
      "  (0, 123762)\t1\n",
      "  (0, 124189)\t2\n",
      "  (0, 124264)\t1\n",
      "  (0, 124772)\t1\n",
      "  (0, 125291)\t1\n",
      "  (0, 125736)\t1\n",
      "  (0, 129935)\t1\n",
      "  (0, 133814)\t1\n",
      "  (0, 134156)\t1\n",
      "(1, 135824)\n"
     ]
    }
   ],
   "source": [
    "bow4 = bow_transformer.transform([q4])\n",
    "print(bow4)\n",
    "print(bow4.shape)"
   ]
  },
  {
   "cell_type": "code",
   "execution_count": 89,
   "id": "8cfd3b1d",
   "metadata": {},
   "outputs": [
    {
     "name": "stdout",
     "output_type": "stream",
     "text": [
      "If\n",
      "you\n"
     ]
    }
   ],
   "source": [
    "print(bow_transformer.get_feature_names()[29987])\n",
    "print(bow_transformer.get_feature_names()[134156])"
   ]
  },
  {
   "cell_type": "code",
   "execution_count": 90,
   "id": "f019cf1f",
   "metadata": {},
   "outputs": [],
   "source": [
    "questions_bow = bow_transformer.transform(questions['eng'])"
   ]
  },
  {
   "cell_type": "code",
   "execution_count": 92,
   "id": "a77cecc7",
   "metadata": {},
   "outputs": [
    {
     "name": "stdout",
     "output_type": "stream",
     "text": [
      "Shape of Sparse Matrix:  (122519, 135824)\n",
      "Amount of Non-Zero occurences:  2744234\n"
     ]
    }
   ],
   "source": [
    "print('Shape of Sparse Matrix: ', questions_bow.shape)\n",
    "print('Amount of Non-Zero occurences: ', questions_bow.nnz)"
   ]
  },
  {
   "cell_type": "code",
   "execution_count": 94,
   "id": "0d788217",
   "metadata": {},
   "outputs": [
    {
     "name": "stdout",
     "output_type": "stream",
     "text": [
      "sparsity: 0\n"
     ]
    }
   ],
   "source": [
    "sparsity = (100.0 * questions_bow.nnz / (questions_bow.shape[0] * questions_bow.shape[1]))\n",
    "print('sparsity: {}'.format(round(sparsity)))"
   ]
  },
  {
   "cell_type": "code",
   "execution_count": 95,
   "id": "f52089cb",
   "metadata": {},
   "outputs": [
    {
     "name": "stdout",
     "output_type": "stream",
     "text": [
      "  (0, 134156)\t0.1543640191362015\n",
      "  (0, 133814)\t0.18250537652719734\n",
      "  (0, 129935)\t0.14256127941338878\n",
      "  (0, 125736)\t0.2503831890887326\n",
      "  (0, 125291)\t0.06357608217661545\n",
      "  (0, 124772)\t0.12403902979320253\n",
      "  (0, 124264)\t0.14967921004891452\n",
      "  (0, 124189)\t0.07179499852086028\n",
      "  (0, 123762)\t0.19363714176336766\n",
      "  (0, 119414)\t0.1647404490703724\n",
      "  (0, 119267)\t0.1541833992470522\n",
      "  (0, 115708)\t0.2558537164927605\n",
      "  (0, 115435)\t0.17075523256581773\n",
      "  (0, 107567)\t0.03464171561045009\n",
      "  (0, 90442)\t0.1553806025788541\n",
      "  (0, 87829)\t0.09461739614080925\n",
      "  (0, 87304)\t0.22844771019295695\n",
      "  (0, 87094)\t0.21480381538189397\n",
      "  (0, 86858)\t0.22741202225585275\n",
      "  (0, 74725)\t0.28281565108536894\n",
      "  (0, 71713)\t0.3112573453222767\n",
      "  (0, 68739)\t0.21921384324816778\n",
      "  (0, 68416)\t0.2875357275168981\n",
      "  (0, 52354)\t0.1767463921471008\n",
      "  (0, 52290)\t0.08293683886825554\n",
      "  (0, 51258)\t0.15617822406989842\n",
      "  (0, 49069)\t0.20240312707401495\n",
      "  (0, 48506)\t0.1327236707982495\n",
      "  (0, 30152)\t0.10123805703117504\n",
      "  (0, 29987)\t0.08097484097742864\n"
     ]
    }
   ],
   "source": [
    "from sklearn.feature_extraction.text import TfidfTransformer\n",
    "\n",
    "tfidf_transformer = TfidfTransformer().fit(questions_bow)\n",
    "tfidf4 = tfidf_transformer.transform(bow4)\n",
    "print(tfidf4)"
   ]
  },
  {
   "cell_type": "code",
   "execution_count": 97,
   "id": "01978a91",
   "metadata": {},
   "outputs": [
    {
     "name": "stdout",
     "output_type": "stream",
     "text": [
      "(122519, 135824)\n"
     ]
    }
   ],
   "source": [
    "questions_tfidf = tfidf_transformer.transform(questions_bow)\n",
    "print(questions_tfidf.shape)"
   ]
  },
  {
   "cell_type": "code",
   "execution_count": null,
   "id": "6941e61e",
   "metadata": {},
   "outputs": [],
   "source": []
  },
  {
   "cell_type": "code",
   "execution_count": 98,
   "id": "c13a8dfd",
   "metadata": {},
   "outputs": [],
   "source": [
    "from sklearn.naive_bayes import MultinomialNB\n",
    "spam_detect_model = MultinomialNB().fit(questions_tfidf, questions['Subject'])"
   ]
  },
  {
   "cell_type": "code",
   "execution_count": 99,
   "id": "be27f4a1",
   "metadata": {},
   "outputs": [
    {
     "name": "stdout",
     "output_type": "stream",
     "text": [
      "predicted: Chemistry\n",
      "expected: Biology\n"
     ]
    }
   ],
   "source": [
    "print('predicted:', spam_detect_model.predict(tfidf4)[0])\n",
    "print('expected:', questions.Subject[3])"
   ]
  },
  {
   "cell_type": "code",
   "execution_count": 101,
   "id": "528cd90c",
   "metadata": {},
   "outputs": [
    {
     "name": "stdout",
     "output_type": "stream",
     "text": [
      "['Biology' 'Chemistry' 'Maths' ... 'Biology' 'Physics' 'Physics']\n"
     ]
    }
   ],
   "source": [
    "all_predictions = spam_detect_model.predict(questions_tfidf)\n",
    "print(all_predictions)"
   ]
  },
  {
   "cell_type": "code",
   "execution_count": 102,
   "id": "49c1970c",
   "metadata": {},
   "outputs": [
    {
     "name": "stdout",
     "output_type": "stream",
     "text": [
      "              precision    recall  f1-score   support\n",
      "\n",
      "     Biology       0.98      0.73      0.84     13124\n",
      "   Chemistry       0.90      0.92      0.91     37767\n",
      "       Maths       0.98      0.94      0.96     33190\n",
      "     Physics       0.88      0.96      0.91     38438\n",
      "\n",
      "    accuracy                           0.92    122519\n",
      "   macro avg       0.93      0.89      0.90    122519\n",
      "weighted avg       0.92      0.92      0.92    122519\n",
      "\n"
     ]
    }
   ],
   "source": [
    "from sklearn.metrics import classification_report\n",
    "print (classification_report(questions['Subject'], all_predictions))"
   ]
  },
  {
   "cell_type": "code",
   "execution_count": null,
   "id": "57063736",
   "metadata": {},
   "outputs": [],
   "source": []
  },
  {
   "cell_type": "code",
   "execution_count": 146,
   "id": "1d4aa819",
   "metadata": {},
   "outputs": [
    {
     "name": "stdout",
     "output_type": "stream",
     "text": [
      "85763 36756 122519\n"
     ]
    }
   ],
   "source": [
    "from sklearn.model_selection import train_test_split\n",
    "\n",
    "q_train, q_test, sub_train, sub_test = \\\n",
    "train_test_split(questions['eng'], questions['Subject'], test_size=0.3)\n",
    "\n",
    "print(len(q_train), len(q_test), len(q_train) + len(q_test))"
   ]
  },
  {
   "cell_type": "code",
   "execution_count": 105,
   "id": "f20da117",
   "metadata": {},
   "outputs": [],
   "source": [
    "from sklearn.pipeline import Pipeline\n",
    "\n",
    "pipeline = Pipeline([\n",
    "    ('bow', CountVectorizer(analyzer=text_process)),  # strings to token integer counts\n",
    "    ('tfidf', TfidfTransformer()),  # integer counts to weighted TF-IDF scores\n",
    "    ('classifier', MultinomialNB()),  # train on TF-IDF vectors w/ Naive Bayes classifier\n",
    "])"
   ]
  },
  {
   "cell_type": "code",
   "execution_count": 106,
   "id": "a486ebec",
   "metadata": {},
   "outputs": [
    {
     "data": {
      "text/plain": [
       "Pipeline(steps=[('bow',\n",
       "                 CountVectorizer(analyzer=<function text_process at 0x0000026E2F854E50>)),\n",
       "                ('tfidf', TfidfTransformer()),\n",
       "                ('classifier', MultinomialNB())])"
      ]
     },
     "execution_count": 106,
     "metadata": {},
     "output_type": "execute_result"
    }
   ],
   "source": [
    "pipeline.fit(q_train,sub_train)"
   ]
  },
  {
   "cell_type": "code",
   "execution_count": 108,
   "id": "a1052ff5",
   "metadata": {},
   "outputs": [],
   "source": [
    "predictions = pipeline.predict(q_test)"
   ]
  },
  {
   "cell_type": "code",
   "execution_count": 110,
   "id": "b0a4d855",
   "metadata": {},
   "outputs": [
    {
     "name": "stdout",
     "output_type": "stream",
     "text": [
      "              precision    recall  f1-score   support\n",
      "\n",
      "     Biology       0.63      0.97      0.76      2561\n",
      "   Chemistry       0.92      0.87      0.89     11962\n",
      "       Maths       0.91      0.97      0.94      9320\n",
      "     Physics       0.95      0.85      0.89     12913\n",
      "\n",
      "    accuracy                           0.89     36756\n",
      "   macro avg       0.85      0.91      0.87     36756\n",
      "weighted avg       0.91      0.89      0.90     36756\n",
      "\n"
     ]
    }
   ],
   "source": [
    "print(classification_report(predictions,sub_test))"
   ]
  },
  {
   "cell_type": "code",
   "execution_count": null,
   "id": "7700525c",
   "metadata": {},
   "outputs": [],
   "source": []
  },
  {
   "cell_type": "code",
   "execution_count": null,
   "id": "0535aa80",
   "metadata": {},
   "outputs": [],
   "source": []
  },
  {
   "cell_type": "code",
   "execution_count": null,
   "id": "63f3bc32",
   "metadata": {},
   "outputs": [],
   "source": []
  },
  {
   "cell_type": "code",
   "execution_count": 113,
   "id": "5b6d5ca1",
   "metadata": {},
   "outputs": [],
   "source": [
    "from sklearn.ensemble import RandomForestClassifier\n",
    "spam_detect_model = RandomForestClassifier().fit(questions_tfidf, questions['Subject'])"
   ]
  },
  {
   "cell_type": "code",
   "execution_count": 114,
   "id": "06d1b2ef",
   "metadata": {},
   "outputs": [
    {
     "name": "stdout",
     "output_type": "stream",
     "text": [
      "predicted: Biology\n",
      "expected: Biology\n"
     ]
    }
   ],
   "source": [
    "print('predicted:', spam_detect_model.predict(tfidf4)[0])\n",
    "print('expected:', questions.Subject[3])"
   ]
  },
  {
   "cell_type": "code",
   "execution_count": 115,
   "id": "8b7eb28b",
   "metadata": {},
   "outputs": [
    {
     "name": "stdout",
     "output_type": "stream",
     "text": [
      "['Biology' 'Chemistry' 'Maths' ... 'Biology' 'Physics' 'Physics']\n"
     ]
    }
   ],
   "source": [
    "all_predictions = spam_detect_model.predict(questions_tfidf)\n",
    "print(all_predictions)"
   ]
  },
  {
   "cell_type": "code",
   "execution_count": 116,
   "id": "75c9f178",
   "metadata": {},
   "outputs": [
    {
     "name": "stdout",
     "output_type": "stream",
     "text": [
      "              precision    recall  f1-score   support\n",
      "\n",
      "     Biology       1.00      1.00      1.00     13124\n",
      "   Chemistry       1.00      1.00      1.00     37767\n",
      "       Maths       1.00      1.00      1.00     33190\n",
      "     Physics       1.00      1.00      1.00     38438\n",
      "\n",
      "    accuracy                           1.00    122519\n",
      "   macro avg       1.00      1.00      1.00    122519\n",
      "weighted avg       1.00      1.00      1.00    122519\n",
      "\n"
     ]
    }
   ],
   "source": [
    "from sklearn.metrics import classification_report\n",
    "print (classification_report(questions['Subject'], all_predictions))"
   ]
  },
  {
   "cell_type": "code",
   "execution_count": 117,
   "id": "abe0fc02",
   "metadata": {},
   "outputs": [
    {
     "name": "stdout",
     "output_type": "stream",
     "text": [
      "85763 36756 122519\n"
     ]
    }
   ],
   "source": [
    "from sklearn.model_selection import train_test_split\n",
    "\n",
    "q_train, q_test, sub_train, sub_test = \\\n",
    "train_test_split(questions['eng'], questions['Subject'], test_size=0.3)\n",
    "\n",
    "print(len(q_train), len(q_test), len(q_train) + len(q_test))"
   ]
  },
  {
   "cell_type": "code",
   "execution_count": 118,
   "id": "32449606",
   "metadata": {},
   "outputs": [],
   "source": [
    "from sklearn.pipeline import Pipeline\n",
    "\n",
    "pipeline = Pipeline([\n",
    "    ('bow', CountVectorizer(analyzer=text_process)),  # strings to token integer counts\n",
    "    ('tfidf', TfidfTransformer()),  # integer counts to weighted TF-IDF scores\n",
    "    ('classifier', RandomForestClassifier()),  # train on TF-IDF vectors w/ Naive Bayes classifier\n",
    "])"
   ]
  },
  {
   "cell_type": "code",
   "execution_count": 120,
   "id": "7a5c27ac",
   "metadata": {},
   "outputs": [
    {
     "data": {
      "text/plain": [
       "Pipeline(steps=[('bow',\n",
       "                 CountVectorizer(analyzer=<function text_process at 0x0000026E2F854E50>)),\n",
       "                ('tfidf', TfidfTransformer()),\n",
       "                ('classifier', RandomForestClassifier())])"
      ]
     },
     "execution_count": 120,
     "metadata": {},
     "output_type": "execute_result"
    }
   ],
   "source": [
    "pipeline.fit(q_train,sub_train)"
   ]
  },
  {
   "cell_type": "code",
   "execution_count": 121,
   "id": "fee4c9ae",
   "metadata": {},
   "outputs": [],
   "source": [
    "predictions = pipeline.predict(q_test)"
   ]
  },
  {
   "cell_type": "code",
   "execution_count": null,
   "id": "aa5d7bc3",
   "metadata": {},
   "outputs": [],
   "source": []
  },
  {
   "cell_type": "code",
   "execution_count": 122,
   "id": "16c0e769",
   "metadata": {},
   "outputs": [
    {
     "name": "stdout",
     "output_type": "stream",
     "text": [
      "              precision    recall  f1-score   support\n",
      "\n",
      "     Biology       0.68      0.88      0.77      3018\n",
      "   Chemistry       0.91      0.84      0.87     12328\n",
      "       Maths       0.95      0.94      0.94     10092\n",
      "     Physics       0.88      0.89      0.89     11318\n",
      "\n",
      "    accuracy                           0.89     36756\n",
      "   macro avg       0.85      0.89      0.87     36756\n",
      "weighted avg       0.89      0.89      0.89     36756\n",
      "\n"
     ]
    }
   ],
   "source": [
    "print(classification_report(predictions,sub_test))"
   ]
  },
  {
   "cell_type": "code",
   "execution_count": null,
   "id": "514bf3f7",
   "metadata": {},
   "outputs": [],
   "source": []
  },
  {
   "cell_type": "code",
   "execution_count": 130,
   "id": "62c17279",
   "metadata": {},
   "outputs": [
    {
     "data": {
      "text/html": [
       "<div>\n",
       "<style scoped>\n",
       "    .dataframe tbody tr th:only-of-type {\n",
       "        vertical-align: middle;\n",
       "    }\n",
       "\n",
       "    .dataframe tbody tr th {\n",
       "        vertical-align: top;\n",
       "    }\n",
       "\n",
       "    .dataframe thead th {\n",
       "        text-align: right;\n",
       "    }\n",
       "</style>\n",
       "<table border=\"1\" class=\"dataframe\">\n",
       "  <thead>\n",
       "    <tr style=\"text-align: right;\">\n",
       "      <th></th>\n",
       "      <th>eng</th>\n",
       "      <th>Subject</th>\n",
       "    </tr>\n",
       "  </thead>\n",
       "  <tbody>\n",
       "    <tr>\n",
       "      <th>0</th>\n",
       "      <td>An anti-forest measure is\\nA. Afforestation\\nB...</td>\n",
       "      <td>Biology</td>\n",
       "    </tr>\n",
       "    <tr>\n",
       "      <th>1</th>\n",
       "      <td>Among the following organic acids, the acid pr...</td>\n",
       "      <td>Chemistry</td>\n",
       "    </tr>\n",
       "    <tr>\n",
       "      <th>2</th>\n",
       "      <td>If the area of two similar triangles are equal...</td>\n",
       "      <td>Maths</td>\n",
       "    </tr>\n",
       "    <tr>\n",
       "      <th>3</th>\n",
       "      <td>In recent year, there has been a growing\\nconc...</td>\n",
       "      <td>Biology</td>\n",
       "    </tr>\n",
       "    <tr>\n",
       "      <th>4</th>\n",
       "      <td>Which of the following statement\\nregarding tr...</td>\n",
       "      <td>Physics</td>\n",
       "    </tr>\n",
       "  </tbody>\n",
       "</table>\n",
       "</div>"
      ],
      "text/plain": [
       "                                                 eng    Subject\n",
       "0  An anti-forest measure is\\nA. Afforestation\\nB...    Biology\n",
       "1  Among the following organic acids, the acid pr...  Chemistry\n",
       "2  If the area of two similar triangles are equal...      Maths\n",
       "3  In recent year, there has been a growing\\nconc...    Biology\n",
       "4  Which of the following statement\\nregarding tr...    Physics"
      ]
     },
     "execution_count": 130,
     "metadata": {},
     "output_type": "execute_result"
    }
   ],
   "source": [
    "s_q.head()"
   ]
  },
  {
   "cell_type": "code",
   "execution_count": 131,
   "id": "779c855a",
   "metadata": {},
   "outputs": [
    {
     "data": {
      "text/html": [
       "<div>\n",
       "<style scoped>\n",
       "    .dataframe tbody tr th:only-of-type {\n",
       "        vertical-align: middle;\n",
       "    }\n",
       "\n",
       "    .dataframe tbody tr th {\n",
       "        vertical-align: top;\n",
       "    }\n",
       "\n",
       "    .dataframe thead th {\n",
       "        text-align: right;\n",
       "    }\n",
       "</style>\n",
       "<table border=\"1\" class=\"dataframe\">\n",
       "  <thead>\n",
       "    <tr style=\"text-align: right;\">\n",
       "      <th></th>\n",
       "      <th>eng</th>\n",
       "      <th>Subject</th>\n",
       "      <th>length</th>\n",
       "    </tr>\n",
       "  </thead>\n",
       "  <tbody>\n",
       "    <tr>\n",
       "      <th>0</th>\n",
       "      <td>An anti-forest measure is\\nA. Afforestation\\nB...</td>\n",
       "      <td>Biology</td>\n",
       "      <td>104</td>\n",
       "    </tr>\n",
       "    <tr>\n",
       "      <th>1</th>\n",
       "      <td>Among the following organic acids, the acid pr...</td>\n",
       "      <td>Chemistry</td>\n",
       "      <td>135</td>\n",
       "    </tr>\n",
       "    <tr>\n",
       "      <th>2</th>\n",
       "      <td>If the area of two similar triangles are equal...</td>\n",
       "      <td>Maths</td>\n",
       "      <td>120</td>\n",
       "    </tr>\n",
       "    <tr>\n",
       "      <th>3</th>\n",
       "      <td>In recent year, there has been a growing\\nconc...</td>\n",
       "      <td>Biology</td>\n",
       "      <td>207</td>\n",
       "    </tr>\n",
       "    <tr>\n",
       "      <th>4</th>\n",
       "      <td>Which of the following statement\\nregarding tr...</td>\n",
       "      <td>Physics</td>\n",
       "      <td>451</td>\n",
       "    </tr>\n",
       "  </tbody>\n",
       "</table>\n",
       "</div>"
      ],
      "text/plain": [
       "                                                 eng    Subject  length\n",
       "0  An anti-forest measure is\\nA. Afforestation\\nB...    Biology     104\n",
       "1  Among the following organic acids, the acid pr...  Chemistry     135\n",
       "2  If the area of two similar triangles are equal...      Maths     120\n",
       "3  In recent year, there has been a growing\\nconc...    Biology     207\n",
       "4  Which of the following statement\\nregarding tr...    Physics     451"
      ]
     },
     "execution_count": 131,
     "metadata": {},
     "output_type": "execute_result"
    }
   ],
   "source": [
    "questions.head()"
   ]
  },
  {
   "cell_type": "code",
   "execution_count": 137,
   "id": "0ce054a6",
   "metadata": {},
   "outputs": [],
   "source": [
    "from sklearn.model_selection import cross_val_score\n",
    "\n",
    "cross_val_score?"
   ]
  },
  {
   "cell_type": "code",
   "execution_count": 140,
   "id": "cf14e0f4",
   "metadata": {},
   "outputs": [
    {
     "name": "stdout",
     "output_type": "stream",
     "text": [
      "85763 36756 122519\n"
     ]
    }
   ],
   "source": [
    "from sklearn.model_selection import train_test_split\n",
    "\n",
    "q_train, q_test, sub_train, sub_test = \\\n",
    "train_test_split(questions['eng'], questions['Subject'], test_size=0.3)\n",
    "\n",
    "print(len(q_train), len(q_test), len(q_train) + len(q_test))"
   ]
  },
  {
   "cell_type": "code",
   "execution_count": 143,
   "id": "dc852fa7",
   "metadata": {},
   "outputs": [],
   "source": [
    "from sklearn import svm"
   ]
  },
  {
   "cell_type": "code",
   "execution_count": 147,
   "id": "6ed8f68c",
   "metadata": {},
   "outputs": [],
   "source": [
    "from sklearn.model_selection import KFold"
   ]
  },
  {
   "cell_type": "code",
   "execution_count": 148,
   "id": "0c2b1162",
   "metadata": {},
   "outputs": [],
   "source": [
    "kf5 = KFold(n_splits=5, shuffle=False)"
   ]
  },
  {
   "cell_type": "code",
   "execution_count": 151,
   "id": "631a62a9",
   "metadata": {},
   "outputs": [],
   "source": [
    "from sklearn.model_selection import cross_val_score\n",
    "from sklearn.pipeline import make_pipeline\n",
    "from sklearn.preprocessing import StandardScaler\n",
    "from sklearn.svm import SVC\n",
    "from sklearn.ensemble import RandomForestClassifier\n",
    "from sklearn.model_selection import StratifiedKFold"
   ]
  },
  {
   "cell_type": "code",
   "execution_count": null,
   "id": "071d5bb4",
   "metadata": {},
   "outputs": [],
   "source": []
  },
  {
   "cell_type": "code",
   "execution_count": 164,
   "id": "9db7435f",
   "metadata": {},
   "outputs": [],
   "source": [
    "from sklearn.model_selection import cross_val_score,KFold"
   ]
  },
  {
   "cell_type": "code",
   "execution_count": null,
   "id": "3f8d59a4",
   "metadata": {},
   "outputs": [],
   "source": []
  },
  {
   "cell_type": "code",
   "execution_count": 160,
   "id": "938b36f5",
   "metadata": {},
   "outputs": [],
   "source": [
    "pipeline = Pipeline([\n",
    "    ('bow', CountVectorizer(analyzer=text_process)),  # strings to token integer counts\n",
    "    ('tfidf', TfidfTransformer()),  # integer counts to weighted TF-IDF scores\n",
    "    ('classifier', RandomForestClassifier()),  # train on TF-IDF vectors w/ Naive Bayes classifier\n",
    "])"
   ]
  },
  {
   "cell_type": "code",
   "execution_count": 162,
   "id": "580f90a2",
   "metadata": {},
   "outputs": [],
   "source": [
    "scores = cross_val_score(pipeline, X=q_train, y=sub_train, cv=5, n_jobs=1)"
   ]
  },
  {
   "cell_type": "code",
   "execution_count": 163,
   "id": "eb201c7e",
   "metadata": {},
   "outputs": [
    {
     "name": "stdout",
     "output_type": "stream",
     "text": [
      "Cross Validation accuracy scores: [0.87978779 0.87798053 0.87798053 0.8775653  0.87709888]\n",
      "Cross Validation accuracy: 0.878 +/- 0.001\n"
     ]
    }
   ],
   "source": [
    "print('Cross Validation accuracy scores: %s' % scores)\n",
    " \n",
    "print('Cross Validation accuracy: %.3f +/- %.3f' % (np.mean(scores),np.std(scores)))"
   ]
  },
  {
   "cell_type": "code",
   "execution_count": null,
   "id": "0ac3edef",
   "metadata": {},
   "outputs": [],
   "source": []
  }
 ],
 "metadata": {
  "kernelspec": {
   "display_name": "Python 3 (ipykernel)",
   "language": "python",
   "name": "python3"
  },
  "language_info": {
   "codemirror_mode": {
    "name": "ipython",
    "version": 3
   },
   "file_extension": ".py",
   "mimetype": "text/x-python",
   "name": "python",
   "nbconvert_exporter": "python",
   "pygments_lexer": "ipython3",
   "version": "3.9.7"
  }
 },
 "nbformat": 4,
 "nbformat_minor": 5
}
